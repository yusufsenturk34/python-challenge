{
 "cells": [
  {
   "cell_type": "code",
   "execution_count": 21,
   "metadata": {},
   "outputs": [],
   "source": [
    "import os\n",
    "import csv"
   ]
  },
  {
   "cell_type": "code",
   "execution_count": 22,
   "metadata": {},
   "outputs": [],
   "source": [
    "csvpath = os.path.join(\"budget_data.csv\")"
   ]
  },
  {
   "cell_type": "code",
   "execution_count": 23,
   "metadata": {},
   "outputs": [],
   "source": [
    "total_months = 0\n",
    "net_amount = 0\n",
    "monthly_change = []\n",
    "month_count = []\n",
    "greatest_increase = 0\n",
    "greatest_increase_month = 0\n",
    "greatest_decrease = 0\n",
    "greatest_decrease_month = 0"
   ]
  },
  {
   "cell_type": "code",
   "execution_count": 24,
   "metadata": {},
   "outputs": [],
   "source": [
    "with open(csvpath, newline='') as csvfile:\n",
    "    csvreader = csv.reader(csvfile, delimiter=',')\n",
    "    \n",
    "    csv_header = next(csvreader)\n",
    "    row = next(csvreader)\n",
    "    \n",
    "    previous_row = int(row[1])\n",
    "    total_months += 1\n",
    "    net_amount += int(row[1])\n",
    "    greatest_increase = int(row[1])\n",
    "    greatest_increase_month = row[0]\n",
    "    \n",
    "    for row in csvreader:\n",
    "        total_months += 1\n",
    "        net_amount += int(row[1])\n",
    "\n",
    "\n",
    "        revenue_change = int(row[1]) - previous_row\n",
    "        monthly_change.append(revenue_change)\n",
    "        previous_row = int(row[1])\n",
    "        month_count.append(row[0])\n",
    "        \n",
    "        if int(row[1]) > greatest_increase:\n",
    "            greatest_increase = int(row[1])\n",
    "            greatest_increase_month = row[0]\n",
    "\n",
    "        if int(row[1]) < greatest_decrease:\n",
    "            greatest_decrease = int(row[1])\n",
    "            greatest_decrease_month = row[0]  "
   ]
  },
  {
   "cell_type": "code",
   "execution_count": 25,
   "metadata": {},
   "outputs": [],
   "source": [
    "average_change = sum(monthly_change)/ len(monthly_change)\n",
    "    \n",
    "highest = max(monthly_change)\n",
    "lowest = min(monthly_change)\n"
   ]
  },
  {
   "cell_type": "code",
   "execution_count": 26,
   "metadata": {},
   "outputs": [
    {
     "name": "stdout",
     "output_type": "stream",
     "text": [
      "Financial Analysis\n",
      "---------------------------\n",
      "Total Months: 86\n",
      "Total: $38382578\n",
      "Average Change: $-2315.12\n",
      "Greatest Increase in Profits:, Feb-2012, ($1926159)\n",
      "Greatest Decrease in Profits:, Sep-2013, ($-2196167)\n"
     ]
    }
   ],
   "source": [
    "print(f\"Financial Analysis\")\n",
    "print(f\"---------------------------\")\n",
    "print(f\"Total Months: {total_months}\")\n",
    "print(f\"Total: ${net_amount}\")\n",
    "print(f\"Average Change: ${average_change:.2f}\")\n",
    "print(f\"Greatest Increase in Profits:, {greatest_increase_month}, (${highest})\")\n",
    "print(f\"Greatest Decrease in Profits:, {greatest_decrease_month}, (${lowest})\")\n"
   ]
  },
  {
   "cell_type": "code",
   "execution_count": 27,
   "metadata": {},
   "outputs": [],
   "source": [
    "output_file = os.path.join('analysis.txt')"
   ]
  },
  {
   "cell_type": "code",
   "execution_count": 29,
   "metadata": {},
   "outputs": [],
   "source": [
    "with open(output_file, 'w',) as summary_file:\n",
    "\n",
    "    summary_file.write(f\"Financial Analysis\\n\")\n",
    "    summary_file.write(f\"---------------------------\\n\")\n",
    "    summary_file.write(f\"Total Months: {total_months}\\n\")\n",
    "    summary_file.write(f\"Total: ${net_amount}\\n\")\n",
    "    summary_file.write(f\"Average Change: ${average_change}\\n\")\n",
    "    summary_file.write(f\"Greatest Increase in Profits:, {greatest_increase_month}, (${highest})\\n\")\n",
    "    summary_file.write(f\"Greatest Decrease in Profits:, {greatest_decrease_month}, (${lowest})\\n\")"
   ]
  },
  {
   "cell_type": "code",
   "execution_count": null,
   "metadata": {},
   "outputs": [],
   "source": []
  }
 ],
 "metadata": {
  "kernelspec": {
   "display_name": "Python 3",
   "language": "python",
   "name": "python3"
  },
  "language_info": {
   "codemirror_mode": {
    "name": "ipython",
    "version": 3
   },
   "file_extension": ".py",
   "mimetype": "text/x-python",
   "name": "python",
   "nbconvert_exporter": "python",
   "pygments_lexer": "ipython3",
   "version": "3.7.4"
  }
 },
 "nbformat": 4,
 "nbformat_minor": 2
}
