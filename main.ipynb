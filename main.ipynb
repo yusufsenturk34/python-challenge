{
 "cells": [
  {
   "cell_type": "code",
   "execution_count": 1,
   "metadata": {},
   "outputs": [],
   "source": [
    "import os \n",
    "import csv"
   ]
  },
  {
   "cell_type": "code",
   "execution_count": 2,
   "metadata": {},
   "outputs": [],
   "source": [
    "csvpath = os.path.join('election_data.csv')"
   ]
  },
  {
   "cell_type": "code",
   "execution_count": 3,
   "metadata": {},
   "outputs": [],
   "source": [
    "election_data = {}\n",
    "total_votes = 0\n",
    "\n",
    "\n",
    "with open(csvpath, newline='') as csvfile:\n",
    "\n",
    "    csvreader = csv.reader(csvfile, delimiter=',')   \n",
    "    csv_header = next(csvfile)\n",
    "\n",
    "    for row in csvreader:\n",
    "        total_votes += 1\n",
    "        if row[2] in election_data.keys():\n",
    "            election_data[row[2]] = election_data[row[2]] + 1\n",
    "        else:\n",
    "            election_data[row[2]] = 1 "
   ]
  },
  {
   "cell_type": "code",
   "execution_count": 4,
   "metadata": {},
   "outputs": [],
   "source": [
    "candidates = []  \n",
    "tot_num_votes = []\n",
    "for key, value in election_data.items():\n",
    "    candidates.append(key)\n",
    "    tot_num_votes.append(value)"
   ]
  },
  {
   "cell_type": "code",
   "execution_count": 5,
   "metadata": {},
   "outputs": [],
   "source": [
    "percentage_votes =[]\n",
    "for n in tot_num_votes:\n",
    "    percentage_votes.append(round(n/total_votes * 100, 1))"
   ]
  },
  {
   "cell_type": "code",
   "execution_count": 6,
   "metadata": {},
   "outputs": [],
   "source": [
    "clean_data = list(zip(candidates, tot_num_votes, percentage_votes))"
   ]
  },
  {
   "cell_type": "code",
   "execution_count": 7,
   "metadata": {},
   "outputs": [],
   "source": [
    "winner_list = [name[0] for name in clean_data if max(tot_num_votes) == name[1]]"
   ]
  },
  {
   "cell_type": "code",
   "execution_count": 8,
   "metadata": {},
   "outputs": [],
   "source": [
    "winner = winner_list[0]"
   ]
  },
  {
   "cell_type": "code",
   "execution_count": 9,
   "metadata": {},
   "outputs": [
    {
     "name": "stdout",
     "output_type": "stream",
     "text": [
      "Election results :\n",
      "3521001\n",
      "['Khan', 'Correy', 'Li', \"O'Tooley\"]\n",
      "[63.0, 20.0, 14.0, 3.0]\n",
      "[2218231, 704200, 492940, 105630]\n",
      "Khan\n"
     ]
    }
   ],
   "source": [
    "print (\"Election results :\")\n",
    "print(total_votes) \n",
    "print(candidates)  \n",
    "print(percentage_votes)\n",
    "print(tot_num_votes)  \n",
    "print(winner)"
   ]
  },
  {
   "cell_type": "code",
   "execution_count": 11,
   "metadata": {},
   "outputs": [],
   "source": [
    "output_file = os.path.join('analysis_for_pypoll.text')"
   ]
  },
  {
   "cell_type": "code",
   "execution_count": 12,
   "metadata": {},
   "outputs": [],
   "source": [
    "with open(output_file, 'w',) as analysis_file:\n",
    "    analysis_file.write(f\"Election Results\\n\")\n",
    "    analysis_file.write(f\"---------------------\\n\")\n",
    "    analysis_file.write(f\"Total Votes: {total_votes}\\n\")\n",
    "    analysis_file.write(f\"---------------------\\n\")  \n",
    "    analysis_file.write(f\"Candidates:            {candidates}\\n\")\n",
    "    analysis_file.write(f\"Total Number of Votes: {tot_num_votes}\\n\")\n",
    "    analysis_file.write(f\"Pencentage Votes:      {percentage_votes}\\n\")\n",
    "    analysis_file.write(f\"\\n\")\n",
    "    analysis_file.write(f\"Winner: {winner}\\n\")"
   ]
  },
  {
   "cell_type": "code",
   "execution_count": null,
   "metadata": {},
   "outputs": [],
   "source": []
  }
 ],
 "metadata": {
  "kernelspec": {
   "display_name": "Python 3",
   "language": "python",
   "name": "python3"
  },
  "language_info": {
   "codemirror_mode": {
    "name": "ipython",
    "version": 3
   },
   "file_extension": ".py",
   "mimetype": "text/x-python",
   "name": "python",
   "nbconvert_exporter": "python",
   "pygments_lexer": "ipython3",
   "version": "3.7.4"
  }
 },
 "nbformat": 4,
 "nbformat_minor": 2
}
